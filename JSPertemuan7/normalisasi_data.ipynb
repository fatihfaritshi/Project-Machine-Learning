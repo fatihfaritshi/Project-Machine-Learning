{
 "cells": [
  {
   "cell_type": "code",
   "execution_count": 1,
   "metadata": {},
   "outputs": [
    {
     "name": "stdout",
     "output_type": "stream",
     "text": [
      "Min-Max Scaled Data:\n",
      "[[0.  0.  0. ]\n",
      " [0.5 0.5 0.5]\n",
      " [1.  1.  1. ]]\n",
      "\n",
      "Z-Score Standardized Data:\n",
      "[[-1.22474487 -1.22474487 -1.22474487]\n",
      " [ 0.          0.          0.        ]\n",
      " [ 1.22474487  1.22474487  1.22474487]]\n"
     ]
    }
   ],
   "source": [
    "import numpy as np\n",
    "from sklearn.preprocessing import MinMaxScaler, StandardScaler\n",
    "\n",
    "# Contoh dataset\n",
    "data = np.array([[1.0, 2.0, 3.0],\n",
    "                 [4.0, 5.0, 6.0],\n",
    "                 [7.0, 8.0, 9.0]])\n",
    "\n",
    "# 1. Min-Max Scaling (Normalization)\n",
    "scaler_minmax = MinMaxScaler()\n",
    "data_minmax_scaled = scaler_minmax.fit_transform(data)\n",
    "print(\"Min-Max Scaled Data:\")\n",
    "print(data_minmax_scaled)\n",
    "print()\n",
    "\n",
    "# 2. Z-Score Normalization (Standardization)\n",
    "scaler_standard = StandardScaler()\n",
    "data_standard_scaled = scaler_standard.fit_transform(data)\n",
    "print(\"Z-Score Standardized Data:\")\n",
    "print(data_standard_scaled)"
   ]
  }
 ],
 "metadata": {
  "kernelspec": {
   "display_name": "Python 3",
   "language": "python",
   "name": "python3"
  },
  "language_info": {
   "codemirror_mode": {
    "name": "ipython",
    "version": 3
   },
   "file_extension": ".py",
   "mimetype": "text/x-python",
   "name": "python",
   "nbconvert_exporter": "python",
   "pygments_lexer": "ipython3",
   "version": "3.12.6"
  }
 },
 "nbformat": 4,
 "nbformat_minor": 2
}
