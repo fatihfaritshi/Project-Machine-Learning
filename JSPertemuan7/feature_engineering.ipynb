{
 "cells": [
  {
   "cell_type": "code",
   "execution_count": 5,
   "metadata": {},
   "outputs": [
    {
     "name": "stdout",
     "output_type": "stream",
     "text": [
      "Accuracy: 0.0\n"
     ]
    }
   ],
   "source": [
    "#Berikut adalah contoh implementasi sederhana beberapa teknik feature engineering menggunakan Python dan scikit-learn:\n",
    "\n",
    "import pandas as pd\n",
    "from sklearn.preprocessing import StandardScaler, OneHotEncoder\n",
    "from sklearn.feature_extraction.text import TfidfVectorizer\n",
    "from sklearn.decomposition import PCA\n",
    "from sklearn.model_selection import train_test_split\n",
    "from sklearn.ensemble import RandomForestClassifier\n",
    "from sklearn.metrics import accuracy_score\n",
    "\n",
    "# Contoh dataset\n",
    "data = {\n",
    "    'City': ['New York', 'Los Angeles', 'Chicago', 'Boston', 'Miami'],\n",
    "    'Temperature': [25, 30, 22, 18, 28],\n",
    "    'Category': ['A', 'B', 'A', 'C', 'B']\n",
    "}\n",
    "df = pd.DataFrame(data)\n",
    "\n",
    "# Contoh 1: Encoding kategori\n",
    "encoder = OneHotEncoder()\n",
    "encoded_category = encoder.fit_transform(df[['Category']])\n",
    "\n",
    "# Contoh 2: Transformasi fitur numerik\n",
    "scaler = StandardScaler()\n",
    "scaled_temperature = scaler.fit_transform(df[['Temperature']])\n",
    "\n",
    "# Contoh 3: Penggabungan fitur\n",
    "df['City_Temperature'] = df['City'] + '_' + df['Temperature'].astype(str)\n",
    "\n",
    "# Contoh 4: Pengurangan dimensi dengan PCA\n",
    "pca = PCA(n_components=1)\n",
    "pca_result = pca.fit_transform(encoded_category.toarray())\n",
    "\n",
    "# Contoh 5: Ekstraksi fitur teks dengan TF-IDF\n",
    "corpus = [\n",
    "    'This is the first document.',\n",
    "    'This document is the second document.',\n",
    "    'And this is the third one.',\n",
    "    'Is this the first document?',\n",
    "    'This is the fifth document.'\n",
    "]\n",
    "vectorizer = TfidfVectorizer()\n",
    "X = vectorizer.fit_transform(corpus)\n",
    "\n",
    "# Memisahkan fitur dan label, dan membagi dataset\n",
    "X_train, X_test, y_train, y_test = train_test_split(X, df['Category'], test_size=0.2, random_state=42)\n",
    "\n",
    "# Contoh menggunakan model machine learning setelah feature engineering\n",
    "clf = RandomForestClassifier()\n",
    "clf.fit(X_train, y_train)\n",
    "y_pred = clf.predict(X_test)\n",
    "\n",
    "# Evaluasi model\n",
    "accuracy = accuracy_score(y_test, y_pred)\n",
    "print(\"Accuracy:\", accuracy)\n"
   ]
  }
 ],
 "metadata": {
  "kernelspec": {
   "display_name": "Python 3",
   "language": "python",
   "name": "python3"
  },
  "language_info": {
   "codemirror_mode": {
    "name": "ipython",
    "version": 3
   },
   "file_extension": ".py",
   "mimetype": "text/x-python",
   "name": "python",
   "nbconvert_exporter": "python",
   "pygments_lexer": "ipython3",
   "version": "3.12.6"
  }
 },
 "nbformat": 4,
 "nbformat_minor": 2
}
